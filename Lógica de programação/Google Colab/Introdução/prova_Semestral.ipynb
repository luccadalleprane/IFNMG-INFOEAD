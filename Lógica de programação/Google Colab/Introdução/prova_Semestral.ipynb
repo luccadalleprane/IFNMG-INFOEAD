{
  "nbformat": 4,
  "nbformat_minor": 0,
  "metadata": {
    "colab": {
      "provenance": []
    },
    "kernelspec": {
      "name": "python3",
      "display_name": "Python 3"
    },
    "language_info": {
      "name": "python"
    }
  },
  "cells": [
    {
      "cell_type": "code",
      "execution_count": 3,
      "metadata": {
        "id": "rk7zH6ZjqOd4",
        "colab": {
          "base_uri": "https://localhost:8080/",
          "height": 0
        },
        "outputId": "0c01dbbe-8d50-481c-b312-af654b2414ac"
      },
      "outputs": [
        {
          "output_type": "stream",
          "name": "stdout",
          "text": [
            "Digite a operação(+, -, *, /): /\n",
            "Digite o primeiro número: 10\n",
            "Digite o segundo número: 5\n",
            "2.0\n"
          ]
        }
      ],
      "source": [
        "#Exercício 1: Calculadora Simples\n",
        "def operacao(n1 , n2 , operador):\n",
        "    if operador == \"+\":\n",
        "      print(n1 + n2)\n",
        "    elif operador == \"-\":\n",
        "      print(n1 - n2)\n",
        "    elif operador == \"*\":\n",
        "      print(n1 * n2)\n",
        "    elif operador == \"/\":\n",
        "      if n2 != 0:\n",
        "            print(n1 / n2)\n",
        "      else:\n",
        "            print(\"Erro: divisão por zero\")\n",
        "    else:\n",
        "        print(\"Operação inválida\")\n",
        "operador = input(\"Digite a operação(+, -, *, /): \")\n",
        "n1 = float(input(\"Digite o primeiro número: \"))\n",
        "n2 = float(input(\"Digite o segundo número: \"))\n",
        "operacao(n1,n2,operador)"
      ]
    },
    {
      "cell_type": "code",
      "source": [
        "#Exercício 2: Conversor de Temperatura\n",
        "T = float(input(\"Digite a temperatura em graus Celsius: \"))\n",
        "F = (T * 9/5) + 32\n",
        "print(\"A temperatura em Fahrenheit é:\", F)"
      ],
      "metadata": {
        "id": "JA5_ghl0Etkv",
        "colab": {
          "base_uri": "https://localhost:8080/",
          "height": 0
        },
        "outputId": "330c7a83-b9cf-4735-d3b5-328d6f691ea1"
      },
      "execution_count": 2,
      "outputs": [
        {
          "output_type": "stream",
          "name": "stdout",
          "text": [
            "Digite a temperatura em graus Celsius: 30\n",
            "A temperatura em Fahrenheit é: 86.0\n"
          ]
        }
      ]
    },
    {
      "cell_type": "code",
      "source": [
        "#Exercício 3: Verificador de Média Escolar\n",
        "nota1 = float(input(\"Digite a primeira nota: \"))\n",
        "nota2 = float(input(\"Digite a segunda nota: \"))\n",
        "nota3 = float(input(\"Digite a terceira nota: \"))\n",
        "\n",
        "media = nota1+nota2+nota3/3\n",
        "\n",
        "if media > 7:\n",
        "    print(\"Aprovado\")\n",
        "elif media >= 5:\n",
        "    print(\"Recuperação\")\n",
        "else:\n",
        "    print(\"Reprovado\")"
      ],
      "metadata": {
        "colab": {
          "base_uri": "https://localhost:8080/",
          "height": 0
        },
        "id": "1VoRZ8RHeoMc",
        "outputId": "963e73e9-7087-4298-9378-a8e99b26dfbe"
      },
      "execution_count": 5,
      "outputs": [
        {
          "output_type": "stream",
          "name": "stdout",
          "text": [
            "Digite a primeira nota: 7\n",
            "Digite a segunda nota: 7\n",
            "Digite a terceira nota: 7\n",
            "Aprovado\n"
          ]
        }
      ]
    },
    {
      "cell_type": "code",
      "source": [
        "#Exercício 4: Mensagem de Boas-Vindas Personalizada\n",
        "def saudar(nome,idade):\n",
        "    print(f\"Olá {nome} de {idade} anos, Seja Bem-Vindo!\")\n",
        "\n",
        "saudar(input(\"Digite seu nome: \"),input(\"Digite sua idade: \"))"
      ],
      "metadata": {
        "colab": {
          "base_uri": "https://localhost:8080/",
          "height": 0
        },
        "id": "cJJ9HK4vgGvt",
        "outputId": "9493fe80-235e-4961-ebee-633480f7b4ea"
      },
      "execution_count": 10,
      "outputs": [
        {
          "output_type": "stream",
          "name": "stdout",
          "text": [
            "Digite seu nome: Lucca\n",
            "Digite sua idade: 22\n",
            "Olá Lucca de 22 anos, Seja Bem-Vindo!\n"
          ]
        }
      ]
    },
    {
      "cell_type": "code",
      "source": [
        "#Exercício 5: Comparador de Três Números\n",
        "n1 = float(input(\"Número 1: \"))\n",
        "n2 = float(input(\"Número 2: \"))\n",
        "n3 = float(input(\"Número 3: \"))\n",
        "\n",
        "if n1 > n2 and n1 > n3:\n",
        "    print(\"N1 é maior\")\n",
        "elif n2 > n1 and n2 > n3:\n",
        "    print(\"N2 é maior\")\n",
        "elif n3 > n1 and n3 > n2:\n",
        "    print(\"N3 é maior\")\n",
        "else:\n",
        "    print(\"São iguais\")"
      ],
      "metadata": {
        "colab": {
          "base_uri": "https://localhost:8080/",
          "height": 0
        },
        "id": "8UqRH8BskU6y",
        "outputId": "d2468b71-10d6-4ce0-88b6-f7185c679bc4"
      },
      "execution_count": 11,
      "outputs": [
        {
          "output_type": "stream",
          "name": "stdout",
          "text": [
            "Número 1: 1\n",
            "Número 2: 1\n",
            "Número 3: 1\n",
            "São iguais\n"
          ]
        }
      ]
    }
  ]
}