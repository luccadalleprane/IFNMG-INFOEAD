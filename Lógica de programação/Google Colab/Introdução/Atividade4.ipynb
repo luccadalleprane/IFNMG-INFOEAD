{
  "nbformat": 4,
  "nbformat_minor": 0,
  "metadata": {
    "colab": {
      "provenance": []
    },
    "kernelspec": {
      "name": "python3",
      "display_name": "Python 3"
    },
    "language_info": {
      "name": "python"
    }
  },
  "cells": [
    {
      "cell_type": "code",
      "execution_count": 2,
      "metadata": {
        "colab": {
          "base_uri": "https://localhost:8080/"
        },
        "id": "AuLjUEi_6aR9",
        "outputId": "55d5fa07-7058-4f98-ff08-c7fc6d3a238f"
      },
      "outputs": [
        {
          "output_type": "stream",
          "name": "stdout",
          "text": [
            "0.0 20.0 5.0\n",
            "Impossivel calcular\n"
          ]
        }
      ],
      "source": [
        "#1036\n",
        "# Entrada de dados\n",
        "a, b, c = map(float, input().split())\n",
        "# Calcula as raízes da equação do segundo grau\n",
        "delta = (b**2 - 4*a*c)\n",
        "if delta < 0 or a == 0:\n",
        "    print(\"Impossivel calcular\")\n",
        "else:\n",
        "    r1 = (-b + delta**0.5) / (2 * a)\n",
        "    r2 = (-b - delta**0.5) / (2 * a)\n",
        "    print(f\"R1 = {r1:.5f}\")\n",
        "    print(f\"R2 = {r2:.5f}\")"
      ]
    },
    {
      "cell_type": "code",
      "source": [
        "# 1038\n",
        "# Entrada de dados\n",
        "x, y = map(int, input().split())\n",
        "# Calcula o valor do produto\n",
        "if x == 1:\n",
        "    total = y * 4.00\n",
        "elif x == 2:\n",
        "    total = y * 4.50\n",
        "elif x == 3:\n",
        "    total = y * 5.00\n",
        "elif x == 4:\n",
        "    total = y * 2.00\n",
        "elif x == 5:\n",
        "    total = y * 1.50\n",
        "else:\n",
        "    total = 0\n",
        "# Calcula o total\n",
        "print(f'Total: R$ {total:.2f}')"
      ],
      "metadata": {
        "colab": {
          "base_uri": "https://localhost:8080/"
        },
        "id": "Xz3h2lN696cR",
        "outputId": "954b2779-5ecc-4499-da27-59d15e4aaa59"
      },
      "execution_count": 6,
      "outputs": [
        {
          "output_type": "stream",
          "name": "stdout",
          "text": [
            "3 2\n",
            "Total: R$ 10.00\n"
          ]
        }
      ]
    },
    {
      "cell_type": "code",
      "source": [
        "#1041\n",
        "#Entrada de dados\n",
        "x, y = map(float, input().split())\n",
        "# Verifica a localização do ponto\n",
        "\n",
        "if x == 0 and y == 0:\n",
        "    print(\"Origem\")\n",
        "elif x == 0:\n",
        "    print(\"Eixo Y\")\n",
        "elif y == 0:\n",
        "    print(\"Eixo X\")\n",
        "elif x > 0 and y > 0:\n",
        "    print(\"Q1\")\n",
        "elif x < 0 and y < 0:\n",
        "    print(\"Q3\")\n",
        "elif x < 0 and y > 0:\n",
        "    print(\"Q2\")\n",
        "elif x > 0 and y < 0:\n",
        "    print(\"Q4\")"
      ],
      "metadata": {
        "colab": {
          "base_uri": "https://localhost:8080/"
        },
        "id": "_M17F907D0sL",
        "outputId": "f3477941-237b-4339-ebfd-f44db00dba56"
      },
      "execution_count": 7,
      "outputs": [
        {
          "output_type": "stream",
          "name": "stdout",
          "text": [
            "4.5 -2.2\n",
            "Q4\n"
          ]
        }
      ]
    },
    {
      "cell_type": "code",
      "source": [
        "# 1043\n",
        "# Entrada de dados\n",
        "a, b, c = map(float, input().split())\n",
        "# Verifica se é possível formar um triângulo\n",
        "if a + b > c and a + c > b and b + c > a:\n",
        "    perimetro = a + b + c\n",
        "    print(f'Perimetro = {perimetro:.1f}')\n",
        "else:\n",
        "    area = ((a + b) * c) / 2\n",
        "    print(f'Area = {area:.1f}')\n"
      ],
      "metadata": {
        "colab": {
          "base_uri": "https://localhost:8080/"
        },
        "id": "ora7LQLXJo2R",
        "outputId": "6c76c5a8-274e-4fd1-8b5c-d567416855ac"
      },
      "execution_count": 15,
      "outputs": [
        {
          "output_type": "stream",
          "name": "stdout",
          "text": [
            "6 4 2\n",
            "Area = 10.0\n"
          ]
        }
      ]
    },
    {
      "cell_type": "code",
      "source": [
        "#1045\n",
        "# Entrada de dados\n",
        "valores = list(map(float, input().split()))\n",
        "\n",
        "# Ordena os valores em ordem decrescente\n",
        "valores.sort(reverse=True)\n",
        "a, b, c = valores\n",
        "\n",
        "# Verifica se é possível formar um triângulo\n",
        "if a >= b + c:\n",
        "    print(\"NAO FORMA TRIANGULO\")\n",
        "# Classificação por ângulos\n",
        "elif a**2 == b**2 + c**2:\n",
        "    print(\"TRIANGULO RETANGULO\")\n",
        "elif a**2 > b**2 + c**2:\n",
        "    print(\"TRIANGULO OBTUSANGULO\")\n",
        "elif a**2 < b**2 + c**2:\n",
        "    print(\"TRIANGULO ACUTANGULO\")\n",
        "# Classificação por lados\n",
        "if a == b == c:\n",
        "    print(\"TRIANGULO EQUILATERO\")\n",
        "elif a == b or b == c or a == c:\n",
        "  print(\"TRIANGULO ISOSCELES\")"
      ],
      "metadata": {
        "colab": {
          "base_uri": "https://localhost:8080/"
        },
        "id": "U5eKeCwNpvHC",
        "outputId": "79c781fe-18af-4fb1-c565-325d38cfb4a3"
      },
      "execution_count": 27,
      "outputs": [
        {
          "output_type": "stream",
          "name": "stdout",
          "text": [
            "7 5 7\n",
            "TRIANGULO ACUTANGULO\n",
            "TRIANGULO ISOSCELES\n"
          ]
        }
      ]
    },
    {
      "cell_type": "code",
      "source": [
        "# Entrada de Dados\n",
        "animal1 = input().strip()\n",
        "animal2 = input().strip()\n",
        "animal3 = input().strip()\n",
        "# Verifica o tipo de animal\n",
        "if animal[0] == \"vertebrado\":\n",
        "    if animal[1] == \"ave\":\n",
        "        if animal[2] == \"carnivoro\":\n",
        "            print(\"aguia\")\n",
        "        elif animal[2] == \"onivoro\":\n",
        "            print(\"pomba\")\n",
        "    elif animal[1] == \"mamifero\":\n",
        "        if animal[2] == \"onivoro\":\n",
        "            print(\"homem\")\n",
        "        elif animal[2] == \"herbivoro\":\n",
        "            print(\"vaca\")\n",
        "elif animal[0] == \"invertebrado\":\n",
        "    if animal[1] == \"inseto\":\n",
        "        if animal[2] == \"hematofago\":\n",
        "            print(\"pulga\")\n",
        "        elif animal[2] == \"herbivoro\":\n",
        "            print(\"lagarta\")\n",
        "    elif animal[1] == \"anelideo\":\n",
        "        if animal[2] == \"hematofago\":\n",
        "            print(\"sanguessuga\")\n",
        "        elif animal[2] == \"onivoro\":\n",
        "            print(\"minhoca\")"
      ],
      "metadata": {
        "colab": {
          "base_uri": "https://localhost:8080/"
        },
        "id": "jOpfEQadwkv6",
        "outputId": "bc5dfaca-9c28-4a88-f617-3b6338336339"
      },
      "execution_count": 47,
      "outputs": [
        {
          "output_type": "stream",
          "name": "stdout",
          "text": [
            "invertebrado inseto hematofago\n",
            "pulga\n"
          ]
        }
      ]
    },
    {
      "cell_type": "code",
      "source": [
        "# 1051 - Imposto de Renda\n",
        "\n",
        "# Entrada de dados\n",
        "salario = float(input())\n",
        "\n",
        "# Cálculo do imposto conforme faixas\n",
        "if salario <= 2000.00:\n",
        "    print(\"Isento\")\n",
        "elif salario <= 3000.00:\n",
        "    imposto = (salario - 2000.00) * 0.08\n",
        "    print(f\"R$ {imposto:.2f}\")\n",
        "elif salario <= 4500.00:\n",
        "    imposto = (1000.00 * 0.08) + ((salario - 3000.00) * 0.18)\n",
        "    print(f\"R$ {imposto:.2f}\")\n",
        "else:\n",
        "    imposto = (1000.00 * 0.08) + (1500.00 * 0.18) + ((salario - 4500.00) * 0.28)\n",
        "    print(f\"R$ {imposto:.2f}\")\n"
      ],
      "metadata": {
        "colab": {
          "base_uri": "https://localhost:8080/"
        },
        "id": "LvPgnHByBTvA",
        "outputId": "33815b8f-135f-4d0e-9e22-b82adcbd5174"
      },
      "execution_count": 63,
      "outputs": [
        {
          "output_type": "stream",
          "name": "stdout",
          "text": [
            "4520\n",
            "R$ 355.60\n"
          ]
        }
      ]
    }
  ]
}