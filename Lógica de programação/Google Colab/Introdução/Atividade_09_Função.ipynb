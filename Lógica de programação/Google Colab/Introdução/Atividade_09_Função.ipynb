{
  "nbformat": 4,
  "nbformat_minor": 0,
  "metadata": {
    "colab": {
      "provenance": []
    },
    "kernelspec": {
      "name": "python3",
      "display_name": "Python 3"
    },
    "language_info": {
      "name": "python"
    }
  },
  "cells": [
    {
      "cell_type": "code",
      "execution_count": 4,
      "metadata": {
        "colab": {
          "base_uri": "https://localhost:8080/"
        },
        "id": "eH04n1iu1GrQ",
        "outputId": "c141a947-3795-40f9-e5a5-2817ef1fcec8"
      },
      "outputs": [
        {
          "output_type": "stream",
          "name": "stdout",
          "text": [
            "Olá, mundo das funções em Python!\n"
          ]
        }
      ],
      "source": [
        "#Exercício 01: Saudação Simples\n",
        "def saudar():\n",
        "  print(\"Olá, mundo das funções em Python!\")\n",
        "\n",
        "saudar()"
      ]
    },
    {
      "cell_type": "code",
      "source": [
        "#Exercício 02: Saudação Personalizada\n",
        "def saudar(nome):\n",
        "    print(f\"Olá, {nome}!\")\n",
        "\n",
        "saudar(input(\"Digite seu nome: \"))"
      ],
      "metadata": {
        "colab": {
          "base_uri": "https://localhost:8080/"
        },
        "id": "-x4NwgT2BKCf",
        "outputId": "b60b7621-5c92-465f-8142-89d96f72ecfe"
      },
      "execution_count": 12,
      "outputs": [
        {
          "output_type": "stream",
          "name": "stdout",
          "text": [
            "Digite seu nome: Lucca\n",
            "Olá, Lucca!\n"
          ]
        }
      ]
    },
    {
      "cell_type": "code",
      "source": [
        "#Exercício 03: Calculadora de Área\n",
        "def calcular_area_retangulo(largura,altura):\n",
        "     total = largura * altura\n",
        "     return total\n",
        "# Exemplo de uso\n",
        "largura = float(input(\"Digite a largura: \"))\n",
        "altura = float(input(\"Digite a altura: \"))\n",
        "\n",
        "area = calcular_area_retangulo(largura, altura)\n",
        "print(f\"A área do retângulo é: {area}\")"
      ],
      "metadata": {
        "colab": {
          "base_uri": "https://localhost:8080/"
        },
        "outputId": "48a8589e-05d0-44ad-e042-da158347b49e",
        "id": "UCMmYaCiHZDe"
      },
      "execution_count": 3,
      "outputs": [
        {
          "output_type": "stream",
          "name": "stdout",
          "text": [
            "Digite a largura: 5\n",
            "Digite a altura: 3\n",
            "A área do retângulo é: 15\n"
          ]
        }
      ]
    },
    {
      "cell_type": "code",
      "source": [
        "#Exercício 04: Nome do Curso:\n",
        "def exibir_curso():\n",
        "    print(\"Técnico em Informática - EAD\")\n",
        "exibir_curso()"
      ],
      "metadata": {
        "colab": {
          "base_uri": "https://localhost:8080/"
        },
        "id": "iIVKJ1NA6c4o",
        "outputId": "a6a8a2ec-e4ac-462a-85ef-229a1c29b188"
      },
      "execution_count": 7,
      "outputs": [
        {
          "output_type": "stream",
          "name": "stdout",
          "text": [
            "Técnico em Informática - EAD\n"
          ]
        }
      ]
    },
    {
      "cell_type": "code",
      "source": [
        "#Exercício 05: Mensagem de Boas-Vindas:\n",
        "def boas_vindas(nome):\n",
        "  print(\"Olá,\" + nome + \",seja bem-vindo(a)!.\")\n",
        "\n",
        "nome = input(\"Digite seu nome:\")\n",
        "boas_vindas(nome)"
      ],
      "metadata": {
        "colab": {
          "base_uri": "https://localhost:8080/"
        },
        "id": "_rzyR7ry8DUh",
        "outputId": "ac353cca-c4aa-4d05-e766-17a45761d4c3"
      },
      "execution_count": 13,
      "outputs": [
        {
          "output_type": "stream",
          "name": "stdout",
          "text": [
            "Digite seu nome:Lucca\n",
            "Olá,Lucca,seja bem-vindo(a)!.\n"
          ]
        }
      ]
    },
    {
      "cell_type": "code",
      "source": [
        "#Exercício 06: Calculadora de Dobro:\n",
        "def calcular_dobro(numero):\n",
        "    dobro = numero * 2\n",
        "    return dobro\n",
        "\n",
        "numero = float(input(\"Digite um número: \"))\n",
        "resultado = calcular_dobro(numero)\n",
        "print(f\"O dobro de {numero} é: {resultado}\")"
      ],
      "metadata": {
        "colab": {
          "base_uri": "https://localhost:8080/"
        },
        "id": "nhUBmwEn9fQE",
        "outputId": "8d2df40f-24c4-4094-c4a0-5d0657f27faa"
      },
      "execution_count": 14,
      "outputs": [
        {
          "output_type": "stream",
          "name": "stdout",
          "text": [
            "Digite um número: 2\n",
            "O dobro de 2.0 é: 4.0\n"
          ]
        }
      ]
    },
    {
      "cell_type": "code",
      "source": [
        "#Exercício 07: Conversor de Metros para Centímetros:\n",
        "def conversor(metros):\n",
        "    cm = metros * 100\n",
        "    return cm\n",
        "\n",
        "metros = float(input(\"Digite um número em metros: \"))\n",
        "resultado = conversor(metros)\n",
        "print(f\"{metros}m é: {resultado}cm\")"
      ],
      "metadata": {
        "colab": {
          "base_uri": "https://localhost:8080/"
        },
        "id": "4ZJRphiHAthB",
        "outputId": "385e07b2-9f71-4884-e1db-59563646f086"
      },
      "execution_count": 21,
      "outputs": [
        {
          "output_type": "stream",
          "name": "stdout",
          "text": [
            "Digite um número em metros: 2\n",
            "2.0m é: 200.0cm\n"
          ]
        }
      ]
    },
    {
      "cell_type": "code",
      "source": [
        "#Exercício 08: Soma de Dois Números:\n",
        "def soma(n1,n2):\n",
        "    total = n1 + n2\n",
        "    return total\n",
        "\n",
        "n1 = float(input(\"Digite o primeiro número: \"))\n",
        "n2 = float(input(\"Digite o segundo número: \"))\n",
        "resultado = soma(n1,n2)\n",
        "print(f\"A soma de {n1} + {n2} é: {resultado}\")\n"
      ],
      "metadata": {
        "colab": {
          "base_uri": "https://localhost:8080/"
        },
        "id": "6HZ9Mam3C9vV",
        "outputId": "903394c3-11e7-4c18-eb0b-dd5bd531d546"
      },
      "execution_count": 24,
      "outputs": [
        {
          "output_type": "stream",
          "name": "stdout",
          "text": [
            "Digite o primeiro número: 5\n",
            "Digite o segundo número: 5\n",
            "A soma de 5.0 + 5.0 é: 10.0\n"
          ]
        }
      ]
    },
    {
      "cell_type": "code",
      "source": [
        "#Exercício 09: Verificador de Par ou Ímpar\n",
        "def verificar_paridade(inteiro):\n",
        "    if inteiro % 2 == 0:\n",
        "        print(f\"{inteiro} é um número par.\")\n",
        "    else:\n",
        "        print(f\"{inteiro} é um número impar.\")\n",
        "numero = int(input(\"Digite um número inteiro: \"))\n",
        "verificar_paridade(numero)"
      ],
      "metadata": {
        "colab": {
          "base_uri": "https://localhost:8080/"
        },
        "id": "lH8ClR9gDizF",
        "outputId": "84f845a3-501e-4f65-d1d3-ef4a8e245ec0"
      },
      "execution_count": 29,
      "outputs": [
        {
          "output_type": "stream",
          "name": "stdout",
          "text": [
            "Digite um número inteiro: 4\n",
            "4 é um número par.\n"
          ]
        }
      ]
    },
    {
      "cell_type": "code",
      "source": [
        "#Exercício 10: Média de Notas\n",
        "def calcular_media(nota1,nota2,nota3):\n",
        "    media = (nota1 + nota2 + nota3) / 3\n",
        "    if media >= 7:\n",
        "        print(\"Aprovado\")\n",
        "    else:\n",
        "        print(\"Reprovado\")\n",
        "\n",
        "    return media\n",
        "nota1 = float(input(\"Digite a primeira nota: \"))\n",
        "nota2 = float(input(\"Digite a segunda nota: \"))\n",
        "nota3 = float(input(\"Digite a terceira nota: \"))\n",
        "\n",
        "resultado = calcular_media(nota1,nota2,nota3)\n",
        "print(f\"A média é: {resultado:.2f}\")\n"
      ],
      "metadata": {
        "colab": {
          "base_uri": "https://localhost:8080/"
        },
        "id": "22zwDBGbMH1k",
        "outputId": "75227fd3-7ade-4425-d718-cc65176f2d4e"
      },
      "execution_count": 36,
      "outputs": [
        {
          "output_type": "stream",
          "name": "stdout",
          "text": [
            "Digite a primeira nota: 7\n",
            "Digite a segunda nota: 7\n",
            "Digite a terceira nota: 7\n",
            "Aprovado\n",
            "A média é: 7.00\n"
          ]
        }
      ]
    },
    {
      "cell_type": "code",
      "source": [
        "#Exercício 11: Argumento Padrão (Default\n",
        "def imprimir_lista_de_compras(item, quantidade = 1):\n",
        "    print(f\"{quantidade} {item}\")\n",
        "\n",
        "imprimir_lista_de_compras(\"Arroz\")\n",
        "imprimir_lista_de_compras(\"Feijão\", 2)\n",
        "imprimir_lista_de_compras(\"Queijo\",5)\n",
        "imprimir_lista_de_compras(\"Maça\",8)\n",
        "imprimir_lista_de_compras(\"Suco\")"
      ],
      "metadata": {
        "colab": {
          "base_uri": "https://localhost:8080/"
        },
        "id": "0YYrx_N7Nwzo",
        "outputId": "f268ff88-390f-4f78-f0f3-aac42c12dd09"
      },
      "execution_count": 39,
      "outputs": [
        {
          "output_type": "stream",
          "name": "stdout",
          "text": [
            "1 Arroz\n",
            "2 Feijão\n",
            "5 Queijo\n",
            "8 Maça\n",
            "1 Suco\n"
          ]
        }
      ]
    },
    {
      "cell_type": "code",
      "source": [
        "#Exercício 12: Classificador de Número:\n",
        "def classificador_de_numero(numero):\n",
        "    if numero > 0:\n",
        "        print(\"O número é positivo.\")\n",
        "    elif numero == 0:\n",
        "        print(\"O número é zero\")\n",
        "    else:\n",
        "        print(\"O número é negativo.\")\n",
        "\n",
        "numero = float(input(\"Digite um número: \"))\n",
        "classificador_de_numero(numero)"
      ],
      "metadata": {
        "colab": {
          "base_uri": "https://localhost:8080/"
        },
        "id": "wSjK_MmBQKQP",
        "outputId": "ba4daa9c-c13a-4989-875a-1bba2a11e388"
      },
      "execution_count": 42,
      "outputs": [
        {
          "output_type": "stream",
          "name": "stdout",
          "text": [
            "Digite um número: -1\n",
            "O número é negativo.\n"
          ]
        }
      ]
    },
    {
      "cell_type": "code",
      "source": [
        "#Exercício 13: Verificador de Habilitação:\n",
        "def verificar_habilitacao(idade):\n",
        "    if idade >= 18:\n",
        "        print(\"Pode tirar habilitação\")\n",
        "    else:\n",
        "        print(\"Não pode tirar habilitação\")\n",
        "numero = int(input(\"Digite uma idade: \"))\n",
        "verificar_habilitacao(numero)"
      ],
      "metadata": {
        "colab": {
          "base_uri": "https://localhost:8080/"
        },
        "id": "1gXj5AhyR21C",
        "outputId": "7ccd9d3a-8dba-4346-975f-573c080e7939"
      },
      "execution_count": 44,
      "outputs": [
        {
          "output_type": "stream",
          "name": "stdout",
          "text": [
            "Digite uma idade: 15\n",
            "Não pode tirar habilitação\n"
          ]
        }
      ]
    },
    {
      "cell_type": "code",
      "source": [
        "#Exercício 14: Comparador de Números:\n",
        "def comparar_numeros(n1,n2):\n",
        "    if n1 > n2:\n",
        "        print(\"Maior número\",n1)\n",
        "    elif n1 == n2:\n",
        "        print(\"Iguais\")\n",
        "    else:\n",
        "        print(\"Maior número\",n2)\n",
        "\n",
        "n1 = float(input(\"Digite o primeiro número: \"))\n",
        "n2 = float(input(\"Digite o segundo número: \"))\n",
        "comparar_numeros(n1,n2)"
      ],
      "metadata": {
        "colab": {
          "base_uri": "https://localhost:8080/"
        },
        "id": "laa5TrBSTJ3B",
        "outputId": "a7bc53e4-22f3-46cc-af52-5b1673ff5d4f"
      },
      "execution_count": 46,
      "outputs": [
        {
          "output_type": "stream",
          "name": "stdout",
          "text": [
            "Digite o primeiro número: 1\n",
            "Digite o segundo número: 2\n",
            "Maior número 2.0\n"
          ]
        }
      ]
    },
    {
      "cell_type": "code",
      "source": [
        "#Exercício 15: Mini Calculadora:\n",
        "def operacao(n1 , n2 , operador):\n",
        "    if operador == \"soma\":\n",
        "      print(n1 + n2)\n",
        "    elif operador == \"subtracao\":\n",
        "      print(n1 - n2)\n",
        "    elif operador == \"multiplicacao\":\n",
        "      print(n1 * n2)\n",
        "    elif operador == \"divisao\":\n",
        "      if n2 != 0:\n",
        "            print(n1 / n2)\n",
        "      else:\n",
        "            print(\"Erro: divisão por zero\")\n",
        "    else:\n",
        "        print(\"Operação inválida\")\n",
        "operador = input(\"Digite a operação(soma, subtracao, multiplicacao, divisao): \")\n",
        "n1 = float(input(\"Digite o primeiro número: \"))\n",
        "n2 = float(input(\"Digite o segundo número: \"))\n",
        "operacao(n1,n2,operador)"
      ],
      "metadata": {
        "colab": {
          "base_uri": "https://localhost:8080/"
        },
        "id": "Ei8C_wQWU4Ga",
        "outputId": "d1e30da7-0490-4f0c-88f9-8717a7bca2d5"
      },
      "execution_count": 50,
      "outputs": [
        {
          "output_type": "stream",
          "name": "stdout",
          "text": [
            "Digite a operação(soma, subtracao, multiplicacao, divisao): soma\n",
            "Digite o primeiro número: 5\n",
            "Digite o segundo número: 8\n",
            "13.0\n"
          ]
        }
      ]
    },
    {
      "cell_type": "code",
      "source": [
        "#Exercício 16: Cálculo de Bônus Salarial (Argumento Padrão):\n",
        "def calcular_bonus(salario , bonus = 0.10):\n",
        "    total = salario * bonus\n",
        "    return total\n",
        "\n",
        "salario = float(input(\"Digite o valor do salário: \"))\n",
        "bonus_input = input(\"Digite o valor do bônus em decimal (pressione Enter para 10%) \")\n",
        "if bonus_input == \"\":\n",
        "    bonus = 0.10\n",
        "else:\n",
        "    bonus = float(bonus_input)\n",
        "\n",
        "resultado = calcular_bonus(salario, bonus)\n",
        "print(f\"O valor do bônus salarial: R$ {resultado:.2f}\")"
      ],
      "metadata": {
        "colab": {
          "base_uri": "https://localhost:8080/"
        },
        "id": "pVKgYZPNXdlb",
        "outputId": "7d3b3c58-45db-4872-9aaa-e67a6738d229"
      },
      "execution_count": 57,
      "outputs": [
        {
          "output_type": "stream",
          "name": "stdout",
          "text": [
            "Digite o valor do salário: 1000\n",
            "Digite o valor do bônus em decimal (pressione Enter para 10%) \n",
            "O valor do bônus salarial: R$ 100.00\n"
          ]
        }
      ]
    },
    {
      "cell_type": "code",
      "source": [
        "#Exercício 17: Contagem Regressiva:\n",
        "def contagem_regressiva(numero = 10):\n",
        "    if numero >= 0:\n",
        "        print(numero)\n",
        "        contagem_regressiva(numero - 1)\n",
        "    else:\n",
        "      print(\"Decolar!\")\n",
        "\n",
        "contagem_regressiva()"
      ],
      "metadata": {
        "colab": {
          "base_uri": "https://localhost:8080/"
        },
        "id": "MK8Bu5dZaUwr",
        "outputId": "0713c880-fa64-426c-b060-e6ee5f55ddd0"
      },
      "execution_count": 71,
      "outputs": [
        {
          "output_type": "stream",
          "name": "stdout",
          "text": [
            "10\n",
            "9\n",
            "8\n",
            "7\n",
            "6\n",
            "5\n",
            "4\n",
            "3\n",
            "2\n",
            "1\n",
            "0\n",
            "Decolar!\n"
          ]
        }
      ]
    },
    {
      "cell_type": "code",
      "source": [
        "#Exercício 18: Tabuada Personalizada:\n",
        "def tabuada(numero, inicio = 1, fim = 10):\n",
        "    for i in range(inicio, fim + 1):\n",
        "        resultado = numero * i\n",
        "        print(f\"{numero} x {i} = {resultado}\")\n",
        "\n",
        "num = int(input(\"Digite um número: \"))\n",
        "tabuada(num)"
      ],
      "metadata": {
        "colab": {
          "base_uri": "https://localhost:8080/"
        },
        "id": "9nz7fV4obZRI",
        "outputId": "cba30f11-7523-43d4-dc58-aedb679b78a7"
      },
      "execution_count": 80,
      "outputs": [
        {
          "output_type": "stream",
          "name": "stdout",
          "text": [
            "Digite um número: 5\n",
            "5 x 1 = 5\n",
            "5 x 2 = 10\n",
            "5 x 3 = 15\n",
            "5 x 4 = 20\n",
            "5 x 5 = 25\n",
            "5 x 6 = 30\n",
            "5 x 7 = 35\n",
            "5 x 8 = 40\n",
            "5 x 9 = 45\n",
            "5 x 10 = 50\n"
          ]
        }
      ]
    },
    {
      "cell_type": "code",
      "source": [
        "#Exercício 19: Desenhar Linha:\n",
        "def desenhar_linha(tamanho = 20, caractere = \"-\"):\n",
        "    print(caractere * tamanho)\n",
        "\n",
        "desenhar_linha()"
      ],
      "metadata": {
        "colab": {
          "base_uri": "https://localhost:8080/"
        },
        "id": "325EJYqycitI",
        "outputId": "cdd9f209-549a-45e8-9486-60371e256d73"
      },
      "execution_count": 82,
      "outputs": [
        {
          "output_type": "stream",
          "name": "stdout",
          "text": [
            "--------------------\n"
          ]
        }
      ]
    },
    {
      "cell_type": "code",
      "source": [
        "# Verificador de Número Primo - versão simples\n",
        "def verificar_primo(numero):\n",
        "    if numero <= 1:\n",
        "        return False\n",
        "    for i in range(2, numero):\n",
        "        if numero % i == 0:\n",
        "            return False\n",
        "    return True\n",
        "\n",
        "n = int(input(\"Digite um número: \"))\n",
        "if verificar_primo(n):\n",
        "    print(f\"{n} é primo.\")\n",
        "else:\n",
        "    print(f\"{n} não é primo.\")"
      ],
      "metadata": {
        "colab": {
          "base_uri": "https://localhost:8080/"
        },
        "id": "uI5raXZFdD1k",
        "outputId": "01b7af64-4ba9-4e0c-c1a8-7ae07807385a"
      },
      "execution_count": 92,
      "outputs": [
        {
          "output_type": "stream",
          "name": "stdout",
          "text": [
            "Digite um número: 80\n",
            "80 não é primo.\n"
          ]
        }
      ]
    },
    {
      "cell_type": "code",
      "source": [
        "#Exercício 21: Composição de Funções (IMC):\n",
        "def calcular_imc(peso, altura):\n",
        "    return peso / (altura ** 2)\n",
        "def interpretar_imc(imc):\n",
        "    if imc < 18.5:\n",
        "        return \"Abaixo do peso\"\n",
        "    elif 18.5 <= imc < 24.9:\n",
        "        return \"Peso normal\"\n",
        "    elif 25 <= imc < 29.9:\n",
        "        return \"Sobrepeso\"\n",
        "    elif 30 <= imc < 34.9:\n",
        "        return \"Obesidade Grau I\"\n",
        "    elif 35 <= imc < 39.9:\n",
        "        return \"Obesidade Grau II\"\n",
        "    else:\n",
        "        return \"Obesidade Grau III\"\n",
        "\n",
        "peso = float(input(\"Digite o peso em kg: \"))\n",
        "altura = float(input(\"Digite a altura em metros: \"))\n",
        "\n",
        "resultado = calcular_imc(peso, altura)\n",
        "classificacao = interpretar_imc(resultado)\n",
        "print(f\"O IMC é: {resultado:.2f}\")\n",
        "print(f\"Classificação: {classificacao}\")\n",
        "\n",
        "imc = calcular_imc(peso, altura)\n",
        "classificacao = interpretar_imc(imc)"
      ],
      "metadata": {
        "colab": {
          "base_uri": "https://localhost:8080/"
        },
        "id": "QIDXY5Zqe9Rk",
        "outputId": "a8369707-dc30-4d90-c460-337ac46e175a"
      },
      "execution_count": 94,
      "outputs": [
        {
          "output_type": "stream",
          "name": "stdout",
          "text": [
            "Digite o peso em kg: 85\n",
            "Digite a altura em metros: 1.85\n",
            "O IMC é: 24.84\n",
            "Classificação: Peso normal\n"
          ]
        }
      ]
    }
  ]
}