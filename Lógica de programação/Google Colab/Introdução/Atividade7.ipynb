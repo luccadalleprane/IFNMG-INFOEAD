{
  "nbformat": 4,
  "nbformat_minor": 0,
  "metadata": {
    "colab": {
      "provenance": []
    },
    "kernelspec": {
      "name": "python3",
      "display_name": "Python 3"
    },
    "language_info": {
      "name": "python"
    }
  },
  "cells": [
    {
      "cell_type": "code",
      "source": [
        "# 1101\n",
        "while True:\n",
        "    m, n = map(int, input().split())\n",
        "    if m <= 0 or n <= 0:\n",
        "        break\n",
        "    if m < n:\n",
        "        menor = m\n",
        "        maior = n\n",
        "    else:\n",
        "        menor = n\n",
        "        maior = m\n",
        "    soma = 0\n",
        "    for i in range(menor, maior + 1):\n",
        "        print(i, end=\" \")\n",
        "        soma += i\n",
        "    print(f\"Sum={soma}\")"
      ],
      "metadata": {
        "colab": {
          "base_uri": "https://localhost:8080/"
        },
        "id": "Yo2vr-1YXpsI",
        "outputId": "386a3d0a-824d-4831-d363-36510f3dec5b"
      },
      "execution_count": null,
      "outputs": [
        {
          "name": "stdout",
          "output_type": "stream",
          "text": [
            "5 2\n",
            "2 3 4 5 Sum=14\n",
            "6 3\n",
            "3 4 5 6 Sum=18\n",
            "5 0\n"
          ]
        }
      ]
    },
    {
      "cell_type": "code",
      "execution_count": null,
      "metadata": {
        "colab": {
          "base_uri": "https://localhost:8080/"
        },
        "id": "Ws25xWUwW2z7",
        "outputId": "a247fd1a-f8bf-407a-c53e-3ecabfbf1bda"
      },
      "outputs": [
        {
          "output_type": "stream",
          "name": "stdout",
          "text": [
            "2002\n",
            "Acesso Permitido\n"
          ]
        }
      ],
      "source": [
        "#1114\n",
        "while True:\n",
        "    i = int(input())\n",
        "    if i == 2002:\n",
        "        print(\"Acesso Permitido\")\n",
        "        break\n",
        "    else:\n",
        "        print(\"Senha Invalida\")"
      ]
    },
    {
      "cell_type": "code",
      "source": [
        "#1118\n",
        "while True:\n",
        "    notasValidas = 0\n",
        "    somaNotas = 0\n",
        "    while notasValidas < 2:\n",
        "        nota = float(input())\n",
        "        if nota >= 0 and nota <= 10:\n",
        "            notasValidas += 1\n",
        "            somaNotas += nota\n",
        "        else:\n",
        "            print(\"nota invalida\")\n",
        "\n",
        "    media = somaNotas / 2\n",
        "    print(f\"media = {media:.2f}\")\n",
        "\n",
        "    # Pergunta se quer continuar\n",
        "    while True:\n",
        "        print(\"novo calculo (1-sim 2-nao)\")\n",
        "        opcao = int(input())\n",
        "        if opcao == 1:\n",
        "            break\n",
        "        elif opcao == 2:\n",
        "            exit()  # encerra o programa"
      ],
      "metadata": {
        "id": "nZKAi-q3ifIA"
      },
      "execution_count": null,
      "outputs": []
    },
    {
      "cell_type": "code",
      "source": [
        "#1134\n",
        "alcool = 0\n",
        "gasolina = 0\n",
        "diesel = 0\n",
        "\n",
        "while True:\n",
        "    tipo = int(input())\n",
        "    if tipo == 1:\n",
        "        alcool += 1\n",
        "    elif tipo == 2:\n",
        "        gasolina += 1\n",
        "    elif tipo == 3:\n",
        "        diesel += 1\n",
        "    elif tipo == 4:\n",
        "        break\n",
        "    else:\n",
        "        continue\n",
        "\n",
        "print(\"MUITO OBRIGADO\")\n",
        "print(f\"Alcool: {alcool}\")\n",
        "print(f\"Gasolina: {gasolina}\")\n",
        "print(f\"Diesel: {diesel}\")"
      ],
      "metadata": {
        "id": "s_Jyww31g1Sr"
      },
      "execution_count": null,
      "outputs": []
    },
    {
      "cell_type": "code",
      "source": [
        "#1146\n",
        "while True:\n",
        "    x = int(input())\n",
        "    if x == 0:\n",
        "        break\n",
        "    for i in range(1, x+1):\n",
        "        if i < x:\n",
        "            print(i, end=' ')\n",
        "        else:\n",
        "            print(i)"
      ],
      "metadata": {
        "id": "ZCHfWdK6idxS"
      },
      "execution_count": null,
      "outputs": []
    },
    {
      "cell_type": "code",
      "source": [
        "#1154\n",
        "soma = 0\n",
        "contador = 0\n",
        "idade = int(input())\n",
        "while idade >= 0:\n",
        "    soma += idade\n",
        "    contador += 1\n",
        "    idade = int(input())\n",
        "\n",
        "media = soma / contador\n",
        "print(f\"{media:.2f}\")"
      ],
      "metadata": {
        "id": "0Abcuq_WkwsR"
      },
      "execution_count": null,
      "outputs": []
    },
    {
      "cell_type": "code",
      "source": [
        "#1159\n",
        "while True:\n",
        "    x = int(input())\n",
        "    if x == 0:\n",
        "        break\n",
        "    soma = 0  # inicializa soma antes do loop\n",
        "    if x % 2 == 0:\n",
        "        inicio = x  # se for par, começa em x\n",
        "    else:\n",
        "        inicio = x + 1  # se for ímpar, começa no próximo par\n",
        "    for i in range(5):\n",
        "        soma += inicio + 2 * i  # soma os pares consecutivos\n",
        "    print(soma)\n"
      ],
      "metadata": {
        "id": "UwyUVxqymPbG"
      },
      "execution_count": null,
      "outputs": []
    }
  ]
}